{
  "nbformat": 4,
  "nbformat_minor": 0,
  "metadata": {
    "colab": {
      "provenance": []
    },
    "kernelspec": {
      "name": "python3",
      "display_name": "Python 3"
    },
    "language_info": {
      "name": "python"
    }
  },
  "cells": [
    {
      "cell_type": "markdown",
      "source": [
        "# **Part 1**"
      ],
      "metadata": {
        "id": "X_R8XEFdEU21"
      }
    },
    {
      "cell_type": "code",
      "source": [
        "import requests\n",
        "import random\n",
        "\n",
        "# Bitfinex API URL for order book depth (for the BTC-ETH trading pair)\n",
        "url = \"https://api-pub.bitfinex.com/v2/book/tETHBTC/P0\"\n",
        "\n",
        "# Send request to Bitfinex API\n",
        "response = requests.get(url)\n",
        "\n",
        "# Check if the request was successful\n",
        "if response.status_code == 200:\n",
        "    data = response.json()\n",
        "\n",
        "    # Separate bids and asks\n",
        "    bids = [entry for entry in data if entry[2] > 0]  # Positive amount is a bid\n",
        "    asks = [entry for entry in data if entry[2] < 0]  # Negative amount is an ask\n",
        "\n",
        "    best_bid = bids[0][0]  # Get the best bid price\n",
        "    best_ask = asks[0][0]  # Get the best ask price\n",
        "\n",
        "    print(f\"Best Bid: {best_bid}\")\n",
        "    print(f\"Best Ask: {best_ask}\")\n",
        "else:\n",
        "    print(f\"Failed to fetch data from Bitfinex API: {response.status_code}\")\n",
        "    print(f\"Error details: {response.text}\")"
      ],
      "metadata": {
        "colab": {
          "base_uri": "https://localhost:8080/"
        },
        "id": "tnTatauLxYZD",
        "outputId": "755529dd-aa5d-4820-cac1-e9a4fe68d2bc"
      },
      "execution_count": 1,
      "outputs": [
        {
          "output_type": "stream",
          "name": "stdout",
          "text": [
            "Best Bid: 0.038971\n",
            "Best Ask: 0.038982\n"
          ]
        }
      ]
    },
    {
      "cell_type": "code",
      "source": [
        "def generate_order_book(best_bid, best_ask, num_orders=12):\n",
        "    # Generate bid list, ensure the first order is the best bid\n",
        "    bid_list = [(best_bid, round(random.uniform(0.01, 1), 6))]\n",
        "    current_bid = best_bid\n",
        "    for i in range(1, num_orders):\n",
        "        price = round(current_bid - random.uniform(0.0001, 0.001), 6)  # Ensure decrement\n",
        "        if price <= 0:\n",
        "            price = round(random.uniform(0.001, best_bid), 6)\n",
        "        quantity = round(random.uniform(0.01, 1), 6)\n",
        "        bid_list.append((price, quantity))\n",
        "        current_bid = price  # Update current bid price\n",
        "\n",
        "    # Generate ask list, ensure the first order is the best ask\n",
        "    ask_list = [(best_ask, round(random.uniform(0.01, 1), 6))]\n",
        "    current_ask = best_ask\n",
        "    for i in range(1, num_orders):\n",
        "        price = round(current_ask + random.uniform(0.0001, 0.001), 6)  # Ensure increment\n",
        "        quantity = round(random.uniform(0.01, 1), 6)\n",
        "        ask_list.append((price, quantity))\n",
        "        current_ask = price  # Update current ask price\n",
        "\n",
        "    return bid_list, ask_list"
      ],
      "metadata": {
        "id": "UY6-nNLg2GNI"
      },
      "execution_count": 2,
      "outputs": []
    },
    {
      "cell_type": "code",
      "source": [
        "bid_list, ask_list = generate_order_book(best_bid, best_ask)\n",
        "\n",
        "# Output the generated order book\n",
        "print(\"\\nGenerated Bid List:\")\n",
        "for bid in bid_list:\n",
        "    print(f\"Price: {bid[0]}, Quantity: {bid[1]}\")\n",
        "\n",
        "print(\"\\nGenerated Ask List:\")\n",
        "for ask in ask_list:\n",
        "    print(f\"Price: {ask[0]}, Quantity: {ask[1]}\")"
      ],
      "metadata": {
        "colab": {
          "base_uri": "https://localhost:8080/"
        },
        "id": "_28HcNde5bBM",
        "outputId": "1aa3d196-bc15-416b-84e9-2c4e1b2fe78a"
      },
      "execution_count": 3,
      "outputs": [
        {
          "output_type": "stream",
          "name": "stdout",
          "text": [
            "\n",
            "Generated Bid List:\n",
            "Price: 0.038971, Quantity: 0.243255\n",
            "Price: 0.038738, Quantity: 0.209365\n",
            "Price: 0.038386, Quantity: 0.167026\n",
            "Price: 0.037577, Quantity: 0.574573\n",
            "Price: 0.03695, Quantity: 0.187521\n",
            "Price: 0.036648, Quantity: 0.036182\n",
            "Price: 0.03644, Quantity: 0.739896\n",
            "Price: 0.035958, Quantity: 0.603361\n",
            "Price: 0.035526, Quantity: 0.891913\n",
            "Price: 0.034839, Quantity: 0.745508\n",
            "Price: 0.034041, Quantity: 0.654644\n",
            "Price: 0.033199, Quantity: 0.797466\n",
            "\n",
            "Generated Ask List:\n",
            "Price: 0.038982, Quantity: 0.489764\n",
            "Price: 0.03953, Quantity: 0.043105\n",
            "Price: 0.040322, Quantity: 0.514962\n",
            "Price: 0.041272, Quantity: 0.877513\n",
            "Price: 0.041533, Quantity: 0.623035\n",
            "Price: 0.042052, Quantity: 0.664239\n",
            "Price: 0.042329, Quantity: 0.347127\n",
            "Price: 0.042496, Quantity: 0.418709\n",
            "Price: 0.042819, Quantity: 0.446088\n",
            "Price: 0.043065, Quantity: 0.437021\n",
            "Price: 0.043248, Quantity: 0.613309\n",
            "Price: 0.043449, Quantity: 0.319264\n"
          ]
        }
      ]
    },
    {
      "cell_type": "markdown",
      "source": [
        "# **Part 2**"
      ],
      "metadata": {
        "id": "wtNWyqPuJr4r"
      }
    },
    {
      "cell_type": "code",
      "source": [
        "import time\n",
        "import requests\n",
        "import random\n",
        "\n",
        "# Function to get the latest bid and ask prices from the exchange\n",
        "def get_latest_bid_ask():\n",
        "    # This is where your API call happens to ensure you get the latest best bid and best ask\n",
        "    url = \"https://api-pub.bitfinex.com/v2/book/tETHBTC/P0\"\n",
        "    response = requests.get(url)\n",
        "    data = response.json()\n",
        "    best_bid = data[0][0]  # Assuming we got the latest best bid\n",
        "    best_ask = data[-1][0]  # Assuming we got the latest best ask\n",
        "    return best_bid, best_ask\n",
        "\n",
        "# Function to generate the order book with constraints\n",
        "def generate_order_book(best_bid, best_ask, num_orders=12):\n",
        "    # Generate bid list, ensure the sum of (size * price) is less than 5\n",
        "    bid_list = []\n",
        "    ask_list = []\n",
        "\n",
        "    current_bid = best_bid\n",
        "    current_ask = best_ask\n",
        "\n",
        "    bid_total = 0  # This will store the sum of (size * price) for bid list\n",
        "    ask_total = 0  # This will store the sum of size for ask list\n",
        "\n",
        "    # Generate bid list ensuring the sum(size * price) < 5\n",
        "    for _ in range(num_orders):\n",
        "        price = round(current_bid - random.uniform(0.0001, 0.001), 6)\n",
        "        quantity = round(random.uniform(0.01, 1), 6)\n",
        "        # Stop adding orders if the total sum exceeds 5\n",
        "        if bid_total + (price * quantity) >= 5:\n",
        "            break\n",
        "        bid_total += (price * quantity)\n",
        "        bid_list.append((price, quantity))\n",
        "        current_bid = price  # Update current bid price\n",
        "\n",
        "    # Generate ask list ensuring the sum(size) < 150\n",
        "    for _ in range(num_orders):\n",
        "        price = round(current_ask + random.uniform(0.0001, 0.001), 6)\n",
        "        quantity = round(random.uniform(0.01, 1), 6)\n",
        "        # Stop adding orders if the total sum exceeds 150\n",
        "        if ask_total + quantity >= 150:\n",
        "            break\n",
        "        ask_total += quantity\n",
        "        ask_list.append((price, quantity))\n",
        "        current_ask = price  # Update current ask price\n",
        "\n",
        "    return bid_list, ask_list, bid_total, ask_total\n",
        "\n",
        "# Timer loop to update prices and generate the order book every 30 seconds\n",
        "while True:\n",
        "    best_bid, best_ask = get_latest_bid_ask()  # Fetch the latest prices\n",
        "    bid_list, ask_list, bid_total, ask_total = generate_order_book(best_bid, best_ask)\n",
        "\n",
        "    # Print out the generated bid list and ask list with total values\n",
        "    print(\"Bid List:\", bid_list)\n",
        "    print(\"Ask List:\", ask_list)\n",
        "    print(f\"Sum of (size * price) for bid list: {bid_total}\")\n",
        "    print(f\"Sum of size for ask list: {ask_total}\")\n",
        "\n",
        "    # Wait 30 seconds before updating prices and regenerating the order book\n",
        "    time.sleep(30)"
      ],
      "metadata": {
        "id": "fmssi202JoP5"
      },
      "execution_count": null,
      "outputs": []
    }
  ]
}